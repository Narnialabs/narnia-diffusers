{
 "cells": [
  {
   "cell_type": "code",
   "execution_count": 1,
   "id": "eafe34ef",
   "metadata": {},
   "outputs": [
    {
     "name": "stdout",
     "output_type": "stream",
     "text": [
      "Wed Apr  3 12:01:51 2024       \n",
      "+---------------------------------------------------------------------------------------+\n",
      "| NVIDIA-SMI 545.29.06              Driver Version: 545.29.06    CUDA Version: 12.3     |\n",
      "|-----------------------------------------+----------------------+----------------------+\n",
      "| GPU  Name                 Persistence-M | Bus-Id        Disp.A | Volatile Uncorr. ECC |\n",
      "| Fan  Temp   Perf          Pwr:Usage/Cap |         Memory-Usage | GPU-Util  Compute M. |\n",
      "|                                         |                      |               MIG M. |\n",
      "|=========================================+======================+======================|\n",
      "|   0  NVIDIA A100 80GB PCIe          Off | 00000000:22:00.0 Off |                    0 |\n",
      "| N/A   34C    P0              80W / 300W |  11635MiB / 81920MiB |      0%      Default |\n",
      "|                                         |                      |             Disabled |\n",
      "+-----------------------------------------+----------------------+----------------------+\n",
      "                                                                                         \n",
      "+---------------------------------------------------------------------------------------+\n",
      "| Processes:                                                                            |\n",
      "|  GPU   GI   CI        PID   Type   Process name                            GPU Memory |\n",
      "|        ID   ID                                                             Usage      |\n",
      "|=======================================================================================|\n",
      "+---------------------------------------------------------------------------------------+\n"
     ]
    }
   ],
   "source": [
    "!nvidia-smi"
   ]
  },
  {
   "cell_type": "code",
   "execution_count": 2,
   "id": "c0aa7bc3",
   "metadata": {},
   "outputs": [
    {
     "name": "stderr",
     "output_type": "stream",
     "text": [
      "/root/.pyenv/versions/3.10.13/lib/python3.10/site-packages/diffusers/utils/outputs.py:63: UserWarning: torch.utils._pytree._register_pytree_node is deprecated. Please use torch.utils._pytree.register_pytree_node instead.\n",
      "  torch.utils._pytree._register_pytree_node(\n"
     ]
    },
    {
     "name": "stdout",
     "output_type": "stream",
     "text": [
      "True\n",
      "Device: cuda\n",
      "Current cuda device: 0\n",
      "Count of using GPUs: 1\n"
     ]
    }
   ],
   "source": [
    "import sys, os\n",
    "from lora import LoRA, image_grid\n",
    "from data_loader import get_data_loader\n",
    "import matplotlib.pyplot as plt\n",
    "\n",
    "import torch\n",
    "print(torch.cuda.is_available())\n",
    "device = torch.device(\"cuda\" if torch.cuda.is_available() else \"cpu\")\n",
    "\n",
    "print('Device:', device)\n",
    "print('Current cuda device:', torch.cuda.current_device())\n",
    "print('Count of using GPUs:', torch.cuda.device_count())"
   ]
  },
  {
   "cell_type": "markdown",
   "id": "e066cc3c",
   "metadata": {},
   "source": [
    "## Set LoRA pipe\n",
    "---"
   ]
  },
  {
   "cell_type": "code",
   "execution_count": 4,
   "id": "7321b32f",
   "metadata": {},
   "outputs": [
    {
     "name": "stdout",
     "output_type": "stream",
     "text": [
      "- base_model_path: dreamlike-art/dreamlike-photoreal-2.0\n",
      "- device: cuda\n",
      "- seed: 1\n"
     ]
    }
   ],
   "source": [
    "model = LoRA(\"dreamlike-art/dreamlike-photoreal-2.0\")"
   ]
  },
  {
   "cell_type": "code",
   "execution_count": 5,
   "id": "53b35356",
   "metadata": {},
   "outputs": [
    {
     "name": "stderr",
     "output_type": "stream",
     "text": [
      "/root/.pyenv/versions/3.10.13/lib/python3.10/site-packages/diffusers/utils/outputs.py:63: UserWarning: torch.utils._pytree._register_pytree_node is deprecated. Please use torch.utils._pytree.register_pytree_node instead.\n",
      "  torch.utils._pytree._register_pytree_node(\n"
     ]
    },
    {
     "data": {
      "application/vnd.jupyter.widget-view+json": {
       "model_id": "c65ea40d4989494fb85eec64e7f95dc0",
       "version_major": 2,
       "version_minor": 0
      },
      "text/plain": [
       "Loading pipeline components...:   0%|          | 0/5 [00:00<?, ?it/s]"
      ]
     },
     "metadata": {},
     "output_type": "display_data"
    },
    {
     "name": "stderr",
     "output_type": "stream",
     "text": [
      "/root/.pyenv/versions/3.10.13/lib/python3.10/site-packages/diffusers/utils/outputs.py:63: UserWarning: torch.utils._pytree._register_pytree_node is deprecated. Please use torch.utils._pytree.register_pytree_node instead.\n",
      "  torch.utils._pytree._register_pytree_node(\n"
     ]
    }
   ],
   "source": [
    "model.set_pipe()"
   ]
  },
  {
   "cell_type": "markdown",
   "id": "4940be24",
   "metadata": {},
   "source": [
    "## DataLoader\n",
    "---"
   ]
  },
  {
   "cell_type": "code",
   "execution_count": 6,
   "id": "385d7765",
   "metadata": {},
   "outputs": [],
   "source": [
    "train_dataloader = get_data_loader(dataset_folder =  '/root/box/datasets/bmw/all',\n",
    "                                  tokenizer = model.pipe.tokenizer, # we get tokenizer by pipe\n",
    "                                  train_batch_size = 1,\n",
    "                                  center_crop = True,\n",
    "                                  random_flip = True,\n",
    "                                  )"
   ]
  },
  {
   "cell_type": "code",
   "execution_count": 7,
   "id": "45d49ade",
   "metadata": {},
   "outputs": [
    {
     "name": "stderr",
     "output_type": "stream",
     "text": [
      "Clipping input data to the valid range for imshow with RGB data ([0..1] for floats or [0..255] for integers).\n"
     ]
    },
    {
     "name": "stdout",
     "output_type": "stream",
     "text": [
      "torch.Size([1, 3, 512, 512]) torch.Size([1, 77])\n"
     ]
    },
    {
     "data": {
      "image/png": "[encoded data removed]",
      "text/plain": [
       "<Figure size 1300x400 with 3 Axes>"
      ]
     },
     "metadata": {},
     "output_type": "display_data"
    }
   ],
   "source": [
    "for step, batch in enumerate(train_dataloader):\n",
    "    img = batch[\"pixel_values\"]\n",
    "    token = batch[\"tokens\"]\n",
    "    caption = batch[\"captions\"]\n",
    "\n",
    "    print(img.shape, token.shape)\n",
    "\n",
    "    for i in range(img.shape[0]):\n",
    "        plt.figure(figsize=(13,4))\n",
    "        plt.subplot(131)\n",
    "        plt.title(caption[i][0])\n",
    "        plt.imshow(img[i].permute(1,2,0))\n",
    "        plt.axis('off')\n",
    "\n",
    "        plt.subplot(132)\n",
    "        plt.hist(img[i,0,10:].flatten())\n",
    "        plt.subplot(133)\n",
    "        plt.hist(token[i])\n",
    "        plt.show()\n",
    "\n",
    "    break\n"
   ]
  },
  {
   "cell_type": "markdown",
   "id": "e1d0ab95",
   "metadata": {},
   "source": [
    "## Train\n",
    "---"
   ]
  },
  {
   "cell_type": "code",
   "execution_count": 7,
   "id": "574e5ba1",
   "metadata": {},
   "outputs": [],
   "source": [
    "#1 epoch == 75 step\n",
    "#13 epoch ~= 1000 step"
   ]
  },
  {
   "cell_type": "code",
   "execution_count": 8,
   "id": "7dc89965",
   "metadata": {},
   "outputs": [
    {
     "name": "stdout",
     "output_type": "stream",
     "text": [
      "\n",
      "        ***** Running training *****\n",
      "          Project directory = results/230402-05-bmw-dreamlike\n",
      "          Num examples = 773\n",
      "          Num Epochs = 20\n",
      "          Instantaneous batch size per device = 1\n",
      "          Total train batch size (w. parallel, distributed & accumulation) = 16\n",
      "          Gradient Accumulation steps = 16\n",
      "          Total optimization steps = 980\n",
      "          Checkpointing steps = 20\n",
      "        \n"
     ]
    },
    {
     "name": "stderr",
     "output_type": "stream",
     "text": [
      "Steps:   0%|                                                  | 0/980 [00:00<?, ?it/s]/root/.pyenv/versions/3.10.13/lib/python3.10/site-packages/diffusers/models/attention_processor.py:1871: FutureWarning: `LoRAAttnProcessor` is deprecated and will be removed in version 0.26.0. Make sure use AttnProcessor instead by settingLoRA layers to `self.{to_q,to_k,to_v,to_out[0]}.lora_layer` respectively. This will be done automatically when using `LoraLoaderMixin.load_lora_weights`\n",
      "  deprecate(\n",
      "Steps:   2%|▏           | 20/980 [00:48<37:37,  2.35s/it, lr=9.5e-5, step_loss=0.0114]"
     ]
    },
    {
     "name": "stdout",
     "output_type": "stream",
     "text": [
      "Saved state to results/230402-05-bmw-dreamlike/checkpoint-000020\n",
      "Running validation with prompt: ['BMWSTYLE photo of bmw green car design, front view', 'BMWSTYLE skatch of bmw red car design, side view.', 'BMWSTYLE photo of bmw pink car design, front view, Make sure the BMWLOGO is clearly visible on the front of the car.', 'BMWLOGO']\n"
     ]
    },
    {
     "data": {
      "application/vnd.jupyter.widget-view+json": {
       "model_id": "637e23c7239f492089cf46059f35e691",
       "version_major": 2,
       "version_minor": 0
      },
      "text/plain": [
       "Loading pipeline components...:   0%|          | 0/5 [00:00<?, ?it/s]"
      ]
     },
     "metadata": {},
     "output_type": "display_data"
    },
    {
     "name": "stderr",
     "output_type": "stream",
     "text": [
      "Steps:   4%|▍          | 40/980 [01:41<35:44,  2.28s/it, lr=9.99e-5, step_loss=0.0375]"
     ]
    },
    {
     "name": "stdout",
     "output_type": "stream",
     "text": [
      "Saved state to results/230402-05-bmw-dreamlike/checkpoint-000040\n",
      "Running validation with prompt: ['BMWSTYLE photo of bmw green car design, front view', 'BMWSTYLE skatch of bmw red car design, side view.', 'BMWSTYLE photo of bmw pink car design, front view, Make sure the BMWLOGO is clearly visible on the front of the car.', 'BMWLOGO']\n"
     ]
    },
    {
     "data": {
      "application/vnd.jupyter.widget-view+json": {
       "model_id": "4d2606ee6da8499e9fe41f38479d7b99",
       "version_major": 2,
       "version_minor": 0
      },
      "text/plain": [
       "Loading pipeline components...:   0%|          | 0/5 [00:00<?, ?it/s]"
      ]
     },
     "metadata": {},
     "output_type": "display_data"
    },
    {
     "name": "stderr",
     "output_type": "stream",
     "text": [
      "Steps:   6%|▋          | 60/980 [02:32<34:48,  2.27s/it, lr=9.96e-5, step_loss=0.0803]"
     ]
    },
    {
     "name": "stdout",
     "output_type": "stream",
     "text": [
      "Saved state to results/230402-05-bmw-dreamlike/checkpoint-000060\n",
      "Running validation with prompt: ['BMWSTYLE photo of bmw green car design, front view', 'BMWSTYLE skatch of bmw red car design, side view.', 'BMWSTYLE photo of bmw pink car design, front view, Make sure the BMWLOGO is clearly visible on the front of the car.', 'BMWLOGO']\n"
     ]
    },
    {
     "data": {
      "application/vnd.jupyter.widget-view+json": {
       "model_id": "43c7d74d36274bbd9f0baa96cfde4f76",
       "version_major": 2,
       "version_minor": 0
      },
      "text/plain": [
       "Loading pipeline components...:   0%|          | 0/5 [00:00<?, ?it/s]"
      ]
     },
     "metadata": {},
     "output_type": "display_data"
    },
    {
     "name": "stderr",
     "output_type": "stream",
     "text": [
      "Steps:   8%|▉          | 80/980 [03:24<33:38,  2.24s/it, lr=9.91e-5, step_loss=0.0365]"
     ]
    },
    {
     "name": "stdout",
     "output_type": "stream",
     "text": [
      "Saved state to results/230402-05-bmw-dreamlike/checkpoint-000080\n",
      "Running validation with prompt: ['BMWSTYLE photo of bmw green car design, front view', 'BMWSTYLE skatch of bmw red car design, side view.', 'BMWSTYLE photo of bmw pink car design, front view, Make sure the BMWLOGO is clearly visible on the front of the car.', 'BMWLOGO']\n"
     ]
    },
    {
     "data": {
      "application/vnd.jupyter.widget-view+json": {
       "model_id": "27e36a35ff4149a6b0ed9133cc9318e2",
       "version_major": 2,
       "version_minor": 0
      },
      "text/plain": [
       "Loading pipeline components...:   0%|          | 0/5 [00:00<?, ?it/s]"
      ]
     },
     "metadata": {},
     "output_type": "display_data"
    },
    {
     "name": "stderr",
     "output_type": "stream",
     "text": [
      "Steps:  10%|█         | 100/980 [04:16<31:50,  2.17s/it, lr=9.83e-5, step_loss=0.0579]"
     ]
    },
    {
     "name": "stdout",
     "output_type": "stream",
     "text": [
      "Saved state to results/230402-05-bmw-dreamlike/checkpoint-000100\n",
      "Running validation with prompt: ['BMWSTYLE photo of bmw green car design, front view', 'BMWSTYLE skatch of bmw red car design, side view.', 'BMWSTYLE photo of bmw pink car design, front view, Make sure the BMWLOGO is clearly visible on the front of the car.', 'BMWLOGO']\n"
     ]
    },
    {
     "data": {
      "application/vnd.jupyter.widget-view+json": {
       "model_id": "418b0c254264410f9258f1423523ed2b",
       "version_major": 2,
       "version_minor": 0
      },
      "text/plain": [
       "Loading pipeline components...:   0%|          | 0/5 [00:00<?, ?it/s]"
      ]
     },
     "metadata": {},
     "output_type": "display_data"
    },
    {
     "name": "stderr",
     "output_type": "stream",
     "text": [
      "Steps:  12%|█▏        | 120/980 [05:09<33:12,  2.32s/it, lr=9.74e-5, step_loss=0.0405]"
     ]
    },
    {
     "name": "stdout",
     "output_type": "stream",
     "text": [
      "Saved state to results/230402-05-bmw-dreamlike/checkpoint-000120\n",
      "Running validation with prompt: ['BMWSTYLE photo of bmw green car design, front view', 'BMWSTYLE skatch of bmw red car design, side view.', 'BMWSTYLE photo of bmw pink car design, front view, Make sure the BMWLOGO is clearly visible on the front of the car.', 'BMWLOGO']\n"
     ]
    },
    {
     "data": {
      "application/vnd.jupyter.widget-view+json": {
       "model_id": "789d365946744ef48545b145ed603f53",
       "version_major": 2,
       "version_minor": 0
      },
      "text/plain": [
       "Loading pipeline components...:   0%|          | 0/5 [00:00<?, ?it/s]"
      ]
     },
     "metadata": {},
     "output_type": "display_data"
    },
    {
     "name": "stderr",
     "output_type": "stream",
     "text": [
      "Steps:  14%|█▌         | 140/980 [06:02<31:33,  2.25s/it, lr=9.63e-5, step_loss=0.044]"
     ]
    },
    {
     "name": "stdout",
     "output_type": "stream",
     "text": [
      "Saved state to results/230402-05-bmw-dreamlike/checkpoint-000140\n",
      "Running validation with prompt: ['BMWSTYLE photo of bmw green car design, front view', 'BMWSTYLE skatch of bmw red car design, side view.', 'BMWSTYLE photo of bmw pink car design, front view, Make sure the BMWLOGO is clearly visible on the front of the car.', 'BMWLOGO']\n"
     ]
    },
    {
     "data": {
      "application/vnd.jupyter.widget-view+json": {
       "model_id": "d8183e0b63ac4b41afaf3879e88302a4",
       "version_major": 2,
       "version_minor": 0
      },
      "text/plain": [
       "Loading pipeline components...:   0%|          | 0/5 [00:00<?, ?it/s]"
      ]
     },
     "metadata": {},
     "output_type": "display_data"
    },
    {
     "name": "stderr",
     "output_type": "stream",
     "text": [
      "Steps:  16%|█▋        | 160/980 [06:54<32:47,  2.40s/it, lr=9.49e-5, step_loss=0.0711]"
     ]
    },
    {
     "name": "stdout",
     "output_type": "stream",
     "text": [
      "Saved state to results/230402-05-bmw-dreamlike/checkpoint-000160\n",
      "Running validation with prompt: ['BMWSTYLE photo of bmw green car design, front view', 'BMWSTYLE skatch of bmw red car design, side view.', 'BMWSTYLE photo of bmw pink car design, front view, Make sure the BMWLOGO is clearly visible on the front of the car.', 'BMWLOGO']\n"
     ]
    },
    {
     "data": {
      "application/vnd.jupyter.widget-view+json": {
       "model_id": "d4cb040dfa8a4dc399c248dd2557b582",
       "version_major": 2,
       "version_minor": 0
      },
      "text/plain": [
       "Loading pipeline components...:   0%|          | 0/5 [00:00<?, ?it/s]"
      ]
     },
     "metadata": {},
     "output_type": "display_data"
    },
    {
     "name": "stderr",
     "output_type": "stream",
     "text": [
      "Steps:  18%|█▊        | 180/980 [07:48<31:21,  2.35s/it, lr=9.34e-5, step_loss=0.0265]"
     ]
    },
    {
     "name": "stdout",
     "output_type": "stream",
     "text": [
      "Saved state to results/230402-05-bmw-dreamlike/checkpoint-000180\n",
      "Running validation with prompt: ['BMWSTYLE photo of bmw green car design, front view', 'BMWSTYLE skatch of bmw red car design, side view.', 'BMWSTYLE photo of bmw pink car design, front view, Make sure the BMWLOGO is clearly visible on the front of the car.', 'BMWLOGO']\n"
     ]
    },
    {
     "data": {
      "application/vnd.jupyter.widget-view+json": {
       "model_id": "04ff4a4a62d24db6bc766373e111da0a",
       "version_major": 2,
       "version_minor": 0
      },
      "text/plain": [
       "Loading pipeline components...:   0%|          | 0/5 [00:00<?, ?it/s]"
      ]
     },
     "metadata": {},
     "output_type": "display_data"
    },
    {
     "name": "stderr",
     "output_type": "stream",
     "text": [
      "Steps:  20%|██        | 200/980 [08:39<28:41,  2.21s/it, lr=9.17e-5, step_loss=0.0812]"
     ]
    },
    {
     "name": "stdout",
     "output_type": "stream",
     "text": [
      "Saved state to results/230402-05-bmw-dreamlike/checkpoint-000200\n",
      "Running validation with prompt: ['BMWSTYLE photo of bmw green car design, front view', 'BMWSTYLE skatch of bmw red car design, side view.', 'BMWSTYLE photo of bmw pink car design, front view, Make sure the BMWLOGO is clearly visible on the front of the car.', 'BMWLOGO']\n"
     ]
    },
    {
     "data": {
      "application/vnd.jupyter.widget-view+json": {
       "model_id": "bd425b8951504513a291d765487fb814",
       "version_major": 2,
       "version_minor": 0
      },
      "text/plain": [
       "Loading pipeline components...:   0%|          | 0/5 [00:00<?, ?it/s]"
      ]
     },
     "metadata": {},
     "output_type": "display_data"
    },
    {
     "name": "stderr",
     "output_type": "stream",
     "text": [
      "Steps:  22%|██▍        | 220/980 [09:33<28:15,  2.23s/it, lr=8.98e-5, step_loss=0.039]"
     ]
    },
    {
     "name": "stdout",
     "output_type": "stream",
     "text": [
      "Saved state to results/230402-05-bmw-dreamlike/checkpoint-000220\n",
      "Running validation with prompt: ['BMWSTYLE photo of bmw green car design, front view', 'BMWSTYLE skatch of bmw red car design, side view.', 'BMWSTYLE photo of bmw pink car design, front view, Make sure the BMWLOGO is clearly visible on the front of the car.', 'BMWLOGO']\n"
     ]
    },
    {
     "data": {
      "application/vnd.jupyter.widget-view+json": {
       "model_id": "702d159482124661a4fffc7acc9e1d7f",
       "version_major": 2,
       "version_minor": 0
      },
      "text/plain": [
       "Loading pipeline components...:   0%|          | 0/5 [00:00<?, ?it/s]"
      ]
     },
     "metadata": {},
     "output_type": "display_data"
    },
    {
     "name": "stderr",
     "output_type": "stream",
     "text": [
      "Steps:  24%|██▍       | 240/980 [10:25<29:00,  2.35s/it, lr=8.77e-5, step_loss=0.0422]"
     ]
    },
    {
     "name": "stdout",
     "output_type": "stream",
     "text": [
      "Saved state to results/230402-05-bmw-dreamlike/checkpoint-000240\n",
      "Running validation with prompt: ['BMWSTYLE photo of bmw green car design, front view', 'BMWSTYLE skatch of bmw red car design, side view.', 'BMWSTYLE photo of bmw pink car design, front view, Make sure the BMWLOGO is clearly visible on the front of the car.', 'BMWLOGO']\n"
     ]
    },
    {
     "data": {
      "application/vnd.jupyter.widget-view+json": {
       "model_id": "f8739b7140474aa0a9aabba5c4a88d38",
       "version_major": 2,
       "version_minor": 0
      },
      "text/plain": [
       "Loading pipeline components...:   0%|          | 0/5 [00:00<?, ?it/s]"
      ]
     },
     "metadata": {},
     "output_type": "display_data"
    },
    {
     "name": "stderr",
     "output_type": "stream",
     "text": [
      "Steps:  27%|██▉        | 260/980 [11:19<29:21,  2.45s/it, lr=8.55e-5, step_loss=0.108]"
     ]
    },
    {
     "name": "stdout",
     "output_type": "stream",
     "text": [
      "Saved state to results/230402-05-bmw-dreamlike/checkpoint-000260\n",
      "Running validation with prompt: ['BMWSTYLE photo of bmw green car design, front view', 'BMWSTYLE skatch of bmw red car design, side view.', 'BMWSTYLE photo of bmw pink car design, front view, Make sure the BMWLOGO is clearly visible on the front of the car.', 'BMWLOGO']\n"
     ]
    },
    {
     "data": {
      "application/vnd.jupyter.widget-view+json": {
       "model_id": "3dc3e98ebe9d410698e80e3c15e249c8",
       "version_major": 2,
       "version_minor": 0
      },
      "text/plain": [
       "Loading pipeline components...:   0%|          | 0/5 [00:00<?, ?it/s]"
      ]
     },
     "metadata": {},
     "output_type": "display_data"
    },
    {
     "name": "stderr",
     "output_type": "stream",
     "text": [
      "Steps:  29%|██▊       | 280/980 [12:14<27:54,  2.39s/it, lr=8.31e-5, step_loss=0.0387]"
     ]
    },
    {
     "name": "stdout",
     "output_type": "stream",
     "text": [
      "Saved state to results/230402-05-bmw-dreamlike/checkpoint-000280\n",
      "Running validation with prompt: ['BMWSTYLE photo of bmw green car design, front view', 'BMWSTYLE skatch of bmw red car design, side view.', 'BMWSTYLE photo of bmw pink car design, front view, Make sure the BMWLOGO is clearly visible on the front of the car.', 'BMWLOGO']\n"
     ]
    },
    {
     "data": {
      "application/vnd.jupyter.widget-view+json": {
       "model_id": "e9c3e2bdb659421dbf84984bd35656e5",
       "version_major": 2,
       "version_minor": 0
      },
      "text/plain": [
       "Loading pipeline components...:   0%|          | 0/5 [00:00<?, ?it/s]"
      ]
     },
     "metadata": {},
     "output_type": "display_data"
    },
    {
     "name": "stderr",
     "output_type": "stream",
     "text": [
      "Steps:  31%|███▎       | 300/980 [13:06<24:45,  2.18s/it, lr=8.06e-5, step_loss=0.073]"
     ]
    },
    {
     "name": "stdout",
     "output_type": "stream",
     "text": [
      "Saved state to results/230402-05-bmw-dreamlike/checkpoint-000300\n",
      "Running validation with prompt: ['BMWSTYLE photo of bmw green car design, front view', 'BMWSTYLE skatch of bmw red car design, side view.', 'BMWSTYLE photo of bmw pink car design, front view, Make sure the BMWLOGO is clearly visible on the front of the car.', 'BMWLOGO']\n"
     ]
    },
    {
     "data": {
      "application/vnd.jupyter.widget-view+json": {
       "model_id": "101ad79b720e431988da9b36673f24df",
       "version_major": 2,
       "version_minor": 0
      },
      "text/plain": [
       "Loading pipeline components...:   0%|          | 0/5 [00:00<?, ?it/s]"
      ]
     },
     "metadata": {},
     "output_type": "display_data"
    },
    {
     "name": "stderr",
     "output_type": "stream",
     "text": [
      "Steps:  33%|███▎      | 320/980 [13:58<24:26,  2.22s/it, lr=7.79e-5, step_loss=0.0339]"
     ]
    },
    {
     "name": "stdout",
     "output_type": "stream",
     "text": [
      "Saved state to results/230402-05-bmw-dreamlike/checkpoint-000320\n",
      "Running validation with prompt: ['BMWSTYLE photo of bmw green car design, front view', 'BMWSTYLE skatch of bmw red car design, side view.', 'BMWSTYLE photo of bmw pink car design, front view, Make sure the BMWLOGO is clearly visible on the front of the car.', 'BMWLOGO']\n"
     ]
    },
    {
     "data": {
      "application/vnd.jupyter.widget-view+json": {
       "model_id": "10c69abcd2514741aec2079d99312a2a",
       "version_major": 2,
       "version_minor": 0
      },
      "text/plain": [
       "Loading pipeline components...:   0%|          | 0/5 [00:00<?, ?it/s]"
      ]
     },
     "metadata": {},
     "output_type": "display_data"
    },
    {
     "name": "stderr",
     "output_type": "stream",
     "text": [
      "Steps:  35%|███▍      | 340/980 [14:51<23:44,  2.23s/it, lr=7.51e-5, step_loss=0.0203]"
     ]
    },
    {
     "name": "stdout",
     "output_type": "stream",
     "text": [
      "Saved state to results/230402-05-bmw-dreamlike/checkpoint-000340\n",
      "Running validation with prompt: ['BMWSTYLE photo of bmw green car design, front view', 'BMWSTYLE skatch of bmw red car design, side view.', 'BMWSTYLE photo of bmw pink car design, front view, Make sure the BMWLOGO is clearly visible on the front of the car.', 'BMWLOGO']\n"
     ]
    },
    {
     "data": {
      "application/vnd.jupyter.widget-view+json": {
       "model_id": "5ad171d6476645ceafdfe199d52ccf37",
       "version_major": 2,
       "version_minor": 0
      },
      "text/plain": [
       "Loading pipeline components...:   0%|          | 0/5 [00:00<?, ?it/s]"
      ]
     },
     "metadata": {},
     "output_type": "display_data"
    },
    {
     "name": "stderr",
     "output_type": "stream",
     "text": [
      "Steps:  37%|███▋      | 360/980 [15:42<24:24,  2.36s/it, lr=7.23e-5, step_loss=0.0961]"
     ]
    },
    {
     "name": "stdout",
     "output_type": "stream",
     "text": [
      "Saved state to results/230402-05-bmw-dreamlike/checkpoint-000360\n",
      "Running validation with prompt: ['BMWSTYLE photo of bmw green car design, front view', 'BMWSTYLE skatch of bmw red car design, side view.', 'BMWSTYLE photo of bmw pink car design, front view, Make sure the BMWLOGO is clearly visible on the front of the car.', 'BMWLOGO']\n"
     ]
    },
    {
     "data": {
      "application/vnd.jupyter.widget-view+json": {
       "model_id": "9d9f66c8d28e4643bdc36ed7829f4a2a",
       "version_major": 2,
       "version_minor": 0
      },
      "text/plain": [
       "Loading pipeline components...:   0%|          | 0/5 [00:00<?, ?it/s]"
      ]
     },
     "metadata": {},
     "output_type": "display_data"
    },
    {
     "name": "stderr",
     "output_type": "stream",
     "text": [
      "Steps:  39%|███▉      | 380/980 [16:34<22:29,  2.25s/it, lr=6.93e-5, step_loss=0.0244]"
     ]
    },
    {
     "name": "stdout",
     "output_type": "stream",
     "text": [
      "Saved state to results/230402-05-bmw-dreamlike/checkpoint-000380\n",
      "Running validation with prompt: ['BMWSTYLE photo of bmw green car design, front view', 'BMWSTYLE skatch of bmw red car design, side view.', 'BMWSTYLE photo of bmw pink car design, front view, Make sure the BMWLOGO is clearly visible on the front of the car.', 'BMWLOGO']\n"
     ]
    },
    {
     "data": {
      "application/vnd.jupyter.widget-view+json": {
       "model_id": "a5881b56dbd845a9b97f9ff02b49843a",
       "version_major": 2,
       "version_minor": 0
      },
      "text/plain": [
       "Loading pipeline components...:   0%|          | 0/5 [00:00<?, ?it/s]"
      ]
     },
     "metadata": {},
     "output_type": "display_data"
    },
    {
     "name": "stderr",
     "output_type": "stream",
     "text": [
      "Steps:  41%|████      | 400/980 [17:25<22:33,  2.33s/it, lr=6.62e-5, step_loss=0.0827]"
     ]
    },
    {
     "name": "stdout",
     "output_type": "stream",
     "text": [
      "Saved state to results/230402-05-bmw-dreamlike/checkpoint-000400\n",
      "Running validation with prompt: ['BMWSTYLE photo of bmw green car design, front view', 'BMWSTYLE skatch of bmw red car design, side view.', 'BMWSTYLE photo of bmw pink car design, front view, Make sure the BMWLOGO is clearly visible on the front of the car.', 'BMWLOGO']\n"
     ]
    },
    {
     "data": {
      "application/vnd.jupyter.widget-view+json": {
       "model_id": "ac11480e901d40948c8687638a1d1642",
       "version_major": 2,
       "version_minor": 0
      },
      "text/plain": [
       "Loading pipeline components...:   0%|          | 0/5 [00:00<?, ?it/s]"
      ]
     },
     "metadata": {},
     "output_type": "display_data"
    },
    {
     "name": "stderr",
     "output_type": "stream",
     "text": [
      "Steps:  43%|████▎     | 420/980 [18:18<22:24,  2.40s/it, lr=6.31e-5, step_loss=0.0421]"
     ]
    },
    {
     "name": "stdout",
     "output_type": "stream",
     "text": [
      "Saved state to results/230402-05-bmw-dreamlike/checkpoint-000420\n",
      "Running validation with prompt: ['BMWSTYLE photo of bmw green car design, front view', 'BMWSTYLE skatch of bmw red car design, side view.', 'BMWSTYLE photo of bmw pink car design, front view, Make sure the BMWLOGO is clearly visible on the front of the car.', 'BMWLOGO']\n"
     ]
    },
    {
     "data": {
      "application/vnd.jupyter.widget-view+json": {
       "model_id": "ed53eaea0f1648df9e2d1a5cf8d2f133",
       "version_major": 2,
       "version_minor": 0
      },
      "text/plain": [
       "Loading pipeline components...:   0%|          | 0/5 [00:00<?, ?it/s]"
      ]
     },
     "metadata": {},
     "output_type": "display_data"
    },
    {
     "name": "stderr",
     "output_type": "stream",
     "text": [
      "Steps:  45%|████▍     | 440/980 [19:11<20:03,  2.23s/it, lr=5.99e-5, step_loss=0.0381]"
     ]
    },
    {
     "name": "stdout",
     "output_type": "stream",
     "text": [
      "Saved state to results/230402-05-bmw-dreamlike/checkpoint-000440\n",
      "Running validation with prompt: ['BMWSTYLE photo of bmw green car design, front view', 'BMWSTYLE skatch of bmw red car design, side view.', 'BMWSTYLE photo of bmw pink car design, front view, Make sure the BMWLOGO is clearly visible on the front of the car.', 'BMWLOGO']\n"
     ]
    },
    {
     "data": {
      "application/vnd.jupyter.widget-view+json": {
       "model_id": "6a623bee7cd949cdada462a44afbf38e",
       "version_major": 2,
       "version_minor": 0
      },
      "text/plain": [
       "Loading pipeline components...:   0%|          | 0/5 [00:00<?, ?it/s]"
      ]
     },
     "metadata": {},
     "output_type": "display_data"
    },
    {
     "name": "stderr",
     "output_type": "stream",
     "text": [
      "Steps:  47%|████▋     | 460/980 [20:04<20:25,  2.36s/it, lr=5.67e-5, step_loss=0.0754]"
     ]
    },
    {
     "name": "stdout",
     "output_type": "stream",
     "text": [
      "Saved state to results/230402-05-bmw-dreamlike/checkpoint-000460\n",
      "Running validation with prompt: ['BMWSTYLE photo of bmw green car design, front view', 'BMWSTYLE skatch of bmw red car design, side view.', 'BMWSTYLE photo of bmw pink car design, front view, Make sure the BMWLOGO is clearly visible on the front of the car.', 'BMWLOGO']\n"
     ]
    },
    {
     "data": {
      "application/vnd.jupyter.widget-view+json": {
       "model_id": "45fa4eb9df1b4ad0a1564456989edc84",
       "version_major": 2,
       "version_minor": 0
      },
      "text/plain": [
       "Loading pipeline components...:   0%|          | 0/5 [00:00<?, ?it/s]"
      ]
     },
     "metadata": {},
     "output_type": "display_data"
    },
    {
     "name": "stderr",
     "output_type": "stream",
     "text": [
      "Steps:  49%|████▉     | 480/980 [20:57<18:50,  2.26s/it, lr=5.34e-5, step_loss=0.0419]"
     ]
    },
    {
     "name": "stdout",
     "output_type": "stream",
     "text": [
      "Saved state to results/230402-05-bmw-dreamlike/checkpoint-000480\n",
      "Running validation with prompt: ['BMWSTYLE photo of bmw green car design, front view', 'BMWSTYLE skatch of bmw red car design, side view.', 'BMWSTYLE photo of bmw pink car design, front view, Make sure the BMWLOGO is clearly visible on the front of the car.', 'BMWLOGO']\n"
     ]
    },
    {
     "data": {
      "application/vnd.jupyter.widget-view+json": {
       "model_id": "d180b9e43e6a415a8df9a5b52dfcbe9e",
       "version_major": 2,
       "version_minor": 0
      },
      "text/plain": [
       "Loading pipeline components...:   0%|          | 0/5 [00:00<?, ?it/s]"
      ]
     },
     "metadata": {},
     "output_type": "display_data"
    },
    {
     "name": "stderr",
     "output_type": "stream",
     "text": [
      "Steps:  51%|█████     | 500/980 [21:49<18:37,  2.33s/it, lr=5.02e-5, step_loss=0.0774]"
     ]
    },
    {
     "name": "stdout",
     "output_type": "stream",
     "text": [
      "Saved state to results/230402-05-bmw-dreamlike/checkpoint-000500\n",
      "Running validation with prompt: ['BMWSTYLE photo of bmw green car design, front view', 'BMWSTYLE skatch of bmw red car design, side view.', 'BMWSTYLE photo of bmw pink car design, front view, Make sure the BMWLOGO is clearly visible on the front of the car.', 'BMWLOGO']\n"
     ]
    },
    {
     "data": {
      "application/vnd.jupyter.widget-view+json": {
       "model_id": "401ae124f38540138d07b07be6fe113a",
       "version_major": 2,
       "version_minor": 0
      },
      "text/plain": [
       "Loading pipeline components...:   0%|          | 0/5 [00:00<?, ?it/s]"
      ]
     },
     "metadata": {},
     "output_type": "display_data"
    },
    {
     "name": "stderr",
     "output_type": "stream",
     "text": [
      "Steps:  53%|█████▎    | 520/980 [22:44<18:36,  2.43s/it, lr=4.69e-5, step_loss=0.0369]"
     ]
    },
    {
     "name": "stdout",
     "output_type": "stream",
     "text": [
      "Saved state to results/230402-05-bmw-dreamlike/checkpoint-000520\n",
      "Running validation with prompt: ['BMWSTYLE photo of bmw green car design, front view', 'BMWSTYLE skatch of bmw red car design, side view.', 'BMWSTYLE photo of bmw pink car design, front view, Make sure the BMWLOGO is clearly visible on the front of the car.', 'BMWLOGO']\n"
     ]
    },
    {
     "data": {
      "application/vnd.jupyter.widget-view+json": {
       "model_id": "03a5aac161db4255a526b062a904783e",
       "version_major": 2,
       "version_minor": 0
      },
      "text/plain": [
       "Loading pipeline components...:   0%|          | 0/5 [00:00<?, ?it/s]"
      ]
     },
     "metadata": {},
     "output_type": "display_data"
    },
    {
     "name": "stderr",
     "output_type": "stream",
     "text": [
      "Steps:  55%|█████▌    | 540/980 [23:36<14:34,  1.99s/it, lr=4.36e-5, step_loss=0.0874]"
     ]
    },
    {
     "name": "stdout",
     "output_type": "stream",
     "text": [
      "Saved state to results/230402-05-bmw-dreamlike/checkpoint-000540\n",
      "Running validation with prompt: ['BMWSTYLE photo of bmw green car design, front view', 'BMWSTYLE skatch of bmw red car design, side view.', 'BMWSTYLE photo of bmw pink car design, front view, Make sure the BMWLOGO is clearly visible on the front of the car.', 'BMWLOGO']\n"
     ]
    },
    {
     "data": {
      "application/vnd.jupyter.widget-view+json": {
       "model_id": "9e379eb586ac40a5a70492c34bfa2385",
       "version_major": 2,
       "version_minor": 0
      },
      "text/plain": [
       "Loading pipeline components...:   0%|          | 0/5 [00:00<?, ?it/s]"
      ]
     },
     "metadata": {},
     "output_type": "display_data"
    },
    {
     "name": "stderr",
     "output_type": "stream",
     "text": [
      "Steps:  57%|█████▋    | 560/980 [24:27<15:25,  2.20s/it, lr=4.04e-5, step_loss=0.0377]"
     ]
    },
    {
     "name": "stdout",
     "output_type": "stream",
     "text": [
      "Saved state to results/230402-05-bmw-dreamlike/checkpoint-000560\n",
      "Running validation with prompt: ['BMWSTYLE photo of bmw green car design, front view', 'BMWSTYLE skatch of bmw red car design, side view.', 'BMWSTYLE photo of bmw pink car design, front view, Make sure the BMWLOGO is clearly visible on the front of the car.', 'BMWLOGO']\n"
     ]
    },
    {
     "data": {
      "application/vnd.jupyter.widget-view+json": {
       "model_id": "8045a3a2565b46158d99f3ad3fa69eab",
       "version_major": 2,
       "version_minor": 0
      },
      "text/plain": [
       "Loading pipeline components...:   0%|          | 0/5 [00:00<?, ?it/s]"
      ]
     },
     "metadata": {},
     "output_type": "display_data"
    },
    {
     "name": "stderr",
     "output_type": "stream",
     "text": [
      "Steps:  59%|█████▉    | 580/980 [25:19<15:01,  2.25s/it, lr=3.72e-5, step_loss=0.0349]"
     ]
    },
    {
     "name": "stdout",
     "output_type": "stream",
     "text": [
      "Saved state to results/230402-05-bmw-dreamlike/checkpoint-000580\n",
      "Running validation with prompt: ['BMWSTYLE photo of bmw green car design, front view', 'BMWSTYLE skatch of bmw red car design, side view.', 'BMWSTYLE photo of bmw pink car design, front view, Make sure the BMWLOGO is clearly visible on the front of the car.', 'BMWLOGO']\n"
     ]
    },
    {
     "data": {
      "application/vnd.jupyter.widget-view+json": {
       "model_id": "d86cd316a4dd4445a646e70723a34cee",
       "version_major": 2,
       "version_minor": 0
      },
      "text/plain": [
       "Loading pipeline components...:   0%|          | 0/5 [00:00<?, ?it/s]"
      ]
     },
     "metadata": {},
     "output_type": "display_data"
    },
    {
     "name": "stderr",
     "output_type": "stream",
     "text": [
      "Steps:  61%|██████    | 600/980 [26:10<13:57,  2.20s/it, lr=3.41e-5, step_loss=0.0692]"
     ]
    },
    {
     "name": "stdout",
     "output_type": "stream",
     "text": [
      "Saved state to results/230402-05-bmw-dreamlike/checkpoint-000600\n",
      "Running validation with prompt: ['BMWSTYLE photo of bmw green car design, front view', 'BMWSTYLE skatch of bmw red car design, side view.', 'BMWSTYLE photo of bmw pink car design, front view, Make sure the BMWLOGO is clearly visible on the front of the car.', 'BMWLOGO']\n"
     ]
    },
    {
     "data": {
      "application/vnd.jupyter.widget-view+json": {
       "model_id": "aa83dfded4474e6e983880089543be79",
       "version_major": 2,
       "version_minor": 0
      },
      "text/plain": [
       "Loading pipeline components...:   0%|          | 0/5 [00:00<?, ?it/s]"
      ]
     },
     "metadata": {},
     "output_type": "display_data"
    },
    {
     "name": "stderr",
     "output_type": "stream",
     "text": [
      "Steps:  63%|██████▉    | 620/980 [27:02<13:24,  2.24s/it, lr=3.1e-5, step_loss=0.0285]"
     ]
    },
    {
     "name": "stdout",
     "output_type": "stream",
     "text": [
      "Saved state to results/230402-05-bmw-dreamlike/checkpoint-000620\n",
      "Running validation with prompt: ['BMWSTYLE photo of bmw green car design, front view', 'BMWSTYLE skatch of bmw red car design, side view.', 'BMWSTYLE photo of bmw pink car design, front view, Make sure the BMWLOGO is clearly visible on the front of the car.', 'BMWLOGO']\n"
     ]
    },
    {
     "data": {
      "application/vnd.jupyter.widget-view+json": {
       "model_id": "4fb03f390bf44b11a23f2e03d5796544",
       "version_major": 2,
       "version_minor": 0
      },
      "text/plain": [
       "Loading pipeline components...:   0%|          | 0/5 [00:00<?, ?it/s]"
      ]
     },
     "metadata": {},
     "output_type": "display_data"
    },
    {
     "name": "stderr",
     "output_type": "stream",
     "text": [
      "Steps:  65%|███████▏   | 640/980 [27:54<12:19,  2.17s/it, lr=2.8e-5, step_loss=0.0912]"
     ]
    },
    {
     "name": "stdout",
     "output_type": "stream",
     "text": [
      "Saved state to results/230402-05-bmw-dreamlike/checkpoint-000640\n",
      "Running validation with prompt: ['BMWSTYLE photo of bmw green car design, front view', 'BMWSTYLE skatch of bmw red car design, side view.', 'BMWSTYLE photo of bmw pink car design, front view, Make sure the BMWLOGO is clearly visible on the front of the car.', 'BMWLOGO']\n"
     ]
    },
    {
     "data": {
      "application/vnd.jupyter.widget-view+json": {
       "model_id": "a6dfe126ca9d4f998c75be9c82445979",
       "version_major": 2,
       "version_minor": 0
      },
      "text/plain": [
       "Loading pipeline components...:   0%|          | 0/5 [00:00<?, ?it/s]"
      ]
     },
     "metadata": {},
     "output_type": "display_data"
    },
    {
     "name": "stderr",
     "output_type": "stream",
     "text": [
      "Steps:  67%|██████▋   | 660/980 [28:46<11:46,  2.21s/it, lr=2.51e-5, step_loss=0.0326]"
     ]
    },
    {
     "name": "stdout",
     "output_type": "stream",
     "text": [
      "Saved state to results/230402-05-bmw-dreamlike/checkpoint-000660\n",
      "Running validation with prompt: ['BMWSTYLE photo of bmw green car design, front view', 'BMWSTYLE skatch of bmw red car design, side view.', 'BMWSTYLE photo of bmw pink car design, front view, Make sure the BMWLOGO is clearly visible on the front of the car.', 'BMWLOGO']\n"
     ]
    },
    {
     "data": {
      "application/vnd.jupyter.widget-view+json": {
       "model_id": "82ef442d888d41fcb58977447e256b2e",
       "version_major": 2,
       "version_minor": 0
      },
      "text/plain": [
       "Loading pipeline components...:   0%|          | 0/5 [00:00<?, ?it/s]"
      ]
     },
     "metadata": {},
     "output_type": "display_data"
    },
    {
     "name": "stderr",
     "output_type": "stream",
     "text": [
      "Steps:  69%|███████▋   | 680/980 [29:38<11:10,  2.23s/it, lr=2.24e-5, step_loss=0.035]"
     ]
    },
    {
     "name": "stdout",
     "output_type": "stream",
     "text": [
      "Saved state to results/230402-05-bmw-dreamlike/checkpoint-000680\n",
      "Running validation with prompt: ['BMWSTYLE photo of bmw green car design, front view', 'BMWSTYLE skatch of bmw red car design, side view.', 'BMWSTYLE photo of bmw pink car design, front view, Make sure the BMWLOGO is clearly visible on the front of the car.', 'BMWLOGO']\n"
     ]
    },
    {
     "data": {
      "application/vnd.jupyter.widget-view+json": {
       "model_id": "1dee5caf166344d9a0aafbe479879a5a",
       "version_major": 2,
       "version_minor": 0
      },
      "text/plain": [
       "Loading pipeline components...:   0%|          | 0/5 [00:00<?, ?it/s]"
      ]
     },
     "metadata": {},
     "output_type": "display_data"
    },
    {
     "name": "stderr",
     "output_type": "stream",
     "text": [
      "Steps:  71%|███████▏  | 700/980 [30:30<10:36,  2.27s/it, lr=1.97e-5, step_loss=0.0834]"
     ]
    },
    {
     "name": "stdout",
     "output_type": "stream",
     "text": [
      "Saved state to results/230402-05-bmw-dreamlike/checkpoint-000700\n",
      "Running validation with prompt: ['BMWSTYLE photo of bmw green car design, front view', 'BMWSTYLE skatch of bmw red car design, side view.', 'BMWSTYLE photo of bmw pink car design, front view, Make sure the BMWLOGO is clearly visible on the front of the car.', 'BMWLOGO']\n"
     ]
    },
    {
     "data": {
      "application/vnd.jupyter.widget-view+json": {
       "model_id": "aceb5dc107a7446f98e859510ea2e70b",
       "version_major": 2,
       "version_minor": 0
      },
      "text/plain": [
       "Loading pipeline components...:   0%|          | 0/5 [00:00<?, ?it/s]"
      ]
     },
     "metadata": {},
     "output_type": "display_data"
    },
    {
     "name": "stderr",
     "output_type": "stream",
     "text": [
      "Steps:  73%|███████▎  | 720/980 [31:24<10:16,  2.37s/it, lr=1.72e-5, step_loss=0.0267]"
     ]
    },
    {
     "name": "stdout",
     "output_type": "stream",
     "text": [
      "Saved state to results/230402-05-bmw-dreamlike/checkpoint-000720\n",
      "Running validation with prompt: ['BMWSTYLE photo of bmw green car design, front view', 'BMWSTYLE skatch of bmw red car design, side view.', 'BMWSTYLE photo of bmw pink car design, front view, Make sure the BMWLOGO is clearly visible on the front of the car.', 'BMWLOGO']\n"
     ]
    },
    {
     "data": {
      "application/vnd.jupyter.widget-view+json": {
       "model_id": "4c12b0aad6b647d08a403f5decac1c3e",
       "version_major": 2,
       "version_minor": 0
      },
      "text/plain": [
       "Loading pipeline components...:   0%|          | 0/5 [00:00<?, ?it/s]"
      ]
     },
     "metadata": {},
     "output_type": "display_data"
    },
    {
     "name": "stderr",
     "output_type": "stream",
     "text": [
      "Steps:  76%|███████▌  | 740/980 [32:17<09:12,  2.30s/it, lr=1.48e-5, step_loss=0.0453]"
     ]
    },
    {
     "name": "stdout",
     "output_type": "stream",
     "text": [
      "Saved state to results/230402-05-bmw-dreamlike/checkpoint-000740\n",
      "Running validation with prompt: ['BMWSTYLE photo of bmw green car design, front view', 'BMWSTYLE skatch of bmw red car design, side view.', 'BMWSTYLE photo of bmw pink car design, front view, Make sure the BMWLOGO is clearly visible on the front of the car.', 'BMWLOGO']\n"
     ]
    },
    {
     "data": {
      "application/vnd.jupyter.widget-view+json": {
       "model_id": "e1e1d52d4673411580eeaec7728a8421",
       "version_major": 2,
       "version_minor": 0
      },
      "text/plain": [
       "Loading pipeline components...:   0%|          | 0/5 [00:00<?, ?it/s]"
      ]
     },
     "metadata": {},
     "output_type": "display_data"
    },
    {
     "name": "stderr",
     "output_type": "stream",
     "text": [
      "Steps:  78%|███████▊  | 760/980 [33:11<08:46,  2.39s/it, lr=1.25e-5, step_loss=0.0492]"
     ]
    },
    {
     "name": "stdout",
     "output_type": "stream",
     "text": [
      "Saved state to results/230402-05-bmw-dreamlike/checkpoint-000760\n",
      "Running validation with prompt: ['BMWSTYLE photo of bmw green car design, front view', 'BMWSTYLE skatch of bmw red car design, side view.', 'BMWSTYLE photo of bmw pink car design, front view, Make sure the BMWLOGO is clearly visible on the front of the car.', 'BMWLOGO']\n"
     ]
    },
    {
     "data": {
      "application/vnd.jupyter.widget-view+json": {
       "model_id": "2f330a85bd3e4f1b864c09e368cc1dc5",
       "version_major": 2,
       "version_minor": 0
      },
      "text/plain": [
       "Loading pipeline components...:   0%|          | 0/5 [00:00<?, ?it/s]"
      ]
     },
     "metadata": {},
     "output_type": "display_data"
    },
    {
     "name": "stderr",
     "output_type": "stream",
     "text": [
      "Steps:  80%|███████▉  | 780/980 [34:05<07:48,  2.34s/it, lr=1.04e-5, step_loss=0.0313]"
     ]
    },
    {
     "name": "stdout",
     "output_type": "stream",
     "text": [
      "Saved state to results/230402-05-bmw-dreamlike/checkpoint-000780\n",
      "Running validation with prompt: ['BMWSTYLE photo of bmw green car design, front view', 'BMWSTYLE skatch of bmw red car design, side view.', 'BMWSTYLE photo of bmw pink car design, front view, Make sure the BMWLOGO is clearly visible on the front of the car.', 'BMWLOGO']\n"
     ]
    },
    {
     "data": {
      "application/vnd.jupyter.widget-view+json": {
       "model_id": "8ac0a094b18948b886331366a46b67bf",
       "version_major": 2,
       "version_minor": 0
      },
      "text/plain": [
       "Loading pipeline components...:   0%|          | 0/5 [00:00<?, ?it/s]"
      ]
     },
     "metadata": {},
     "output_type": "display_data"
    },
    {
     "name": "stderr",
     "output_type": "stream",
     "text": [
      "Steps:  82%|████████▏ | 800/980 [34:56<06:44,  2.24s/it, lr=8.52e-6, step_loss=0.0843]"
     ]
    },
    {
     "name": "stdout",
     "output_type": "stream",
     "text": [
      "Saved state to results/230402-05-bmw-dreamlike/checkpoint-000800\n",
      "Running validation with prompt: ['BMWSTYLE photo of bmw green car design, front view', 'BMWSTYLE skatch of bmw red car design, side view.', 'BMWSTYLE photo of bmw pink car design, front view, Make sure the BMWLOGO is clearly visible on the front of the car.', 'BMWLOGO']\n"
     ]
    },
    {
     "data": {
      "application/vnd.jupyter.widget-view+json": {
       "model_id": "eecb82a2fc284161a23f1892e0d64217",
       "version_major": 2,
       "version_minor": 0
      },
      "text/plain": [
       "Loading pipeline components...:   0%|          | 0/5 [00:00<?, ?it/s]"
      ]
     },
     "metadata": {},
     "output_type": "display_data"
    },
    {
     "name": "stderr",
     "output_type": "stream",
     "text": [
      "Steps:  84%|████████▎ | 820/980 [35:48<06:11,  2.32s/it, lr=6.78e-6, step_loss=0.0386]"
     ]
    },
    {
     "name": "stdout",
     "output_type": "stream",
     "text": [
      "Saved state to results/230402-05-bmw-dreamlike/checkpoint-000820\n",
      "Running validation with prompt: ['BMWSTYLE photo of bmw green car design, front view', 'BMWSTYLE skatch of bmw red car design, side view.', 'BMWSTYLE photo of bmw pink car design, front view, Make sure the BMWLOGO is clearly visible on the front of the car.', 'BMWLOGO']\n"
     ]
    },
    {
     "data": {
      "application/vnd.jupyter.widget-view+json": {
       "model_id": "396fbbe793de4f02a58dc0eaadd64457",
       "version_major": 2,
       "version_minor": 0
      },
      "text/plain": [
       "Loading pipeline components...:   0%|          | 0/5 [00:00<?, ?it/s]"
      ]
     },
     "metadata": {},
     "output_type": "display_data"
    },
    {
     "name": "stderr",
     "output_type": "stream",
     "text": [
      "Steps:  86%|████████▌ | 840/980 [36:40<05:06,  2.19s/it, lr=5.23e-6, step_loss=0.0868]"
     ]
    },
    {
     "name": "stdout",
     "output_type": "stream",
     "text": [
      "Saved state to results/230402-05-bmw-dreamlike/checkpoint-000840\n",
      "Running validation with prompt: ['BMWSTYLE photo of bmw green car design, front view', 'BMWSTYLE skatch of bmw red car design, side view.', 'BMWSTYLE photo of bmw pink car design, front view, Make sure the BMWLOGO is clearly visible on the front of the car.', 'BMWLOGO']\n"
     ]
    },
    {
     "data": {
      "application/vnd.jupyter.widget-view+json": {
       "model_id": "7d14be27a2834ed5b3f532840ced96e1",
       "version_major": 2,
       "version_minor": 0
      },
      "text/plain": [
       "Loading pipeline components...:   0%|          | 0/5 [00:00<?, ?it/s]"
      ]
     },
     "metadata": {},
     "output_type": "display_data"
    },
    {
     "name": "stderr",
     "output_type": "stream",
     "text": [
      "Steps:  88%|████████▊ | 860/980 [37:31<04:35,  2.30s/it, lr=3.87e-6, step_loss=0.0467]"
     ]
    },
    {
     "name": "stdout",
     "output_type": "stream",
     "text": [
      "Saved state to results/230402-05-bmw-dreamlike/checkpoint-000860\n",
      "Running validation with prompt: ['BMWSTYLE photo of bmw green car design, front view', 'BMWSTYLE skatch of bmw red car design, side view.', 'BMWSTYLE photo of bmw pink car design, front view, Make sure the BMWLOGO is clearly visible on the front of the car.', 'BMWLOGO']\n"
     ]
    },
    {
     "data": {
      "application/vnd.jupyter.widget-view+json": {
       "model_id": "f473b57882254276a2b301043afcc075",
       "version_major": 2,
       "version_minor": 0
      },
      "text/plain": [
       "Loading pipeline components...:   0%|          | 0/5 [00:00<?, ?it/s]"
      ]
     },
     "metadata": {},
     "output_type": "display_data"
    },
    {
     "name": "stderr",
     "output_type": "stream",
     "text": [
      "Steps:  90%|████████▉ | 880/980 [38:27<04:02,  2.42s/it, lr=2.71e-6, step_loss=0.0374]"
     ]
    },
    {
     "name": "stdout",
     "output_type": "stream",
     "text": [
      "Saved state to results/230402-05-bmw-dreamlike/checkpoint-000880\n",
      "Running validation with prompt: ['BMWSTYLE photo of bmw green car design, front view', 'BMWSTYLE skatch of bmw red car design, side view.', 'BMWSTYLE photo of bmw pink car design, front view, Make sure the BMWLOGO is clearly visible on the front of the car.', 'BMWLOGO']\n"
     ]
    },
    {
     "data": {
      "application/vnd.jupyter.widget-view+json": {
       "model_id": "da43fb6617864b99b66e74eb4aa99852",
       "version_major": 2,
       "version_minor": 0
      },
      "text/plain": [
       "Loading pipeline components...:   0%|          | 0/5 [00:00<?, ?it/s]"
      ]
     },
     "metadata": {},
     "output_type": "display_data"
    },
    {
     "name": "stderr",
     "output_type": "stream",
     "text": [
      "Steps:  92%|█████████▏| 900/980 [39:19<03:05,  2.32s/it, lr=1.75e-6, step_loss=0.0664]"
     ]
    },
    {
     "name": "stdout",
     "output_type": "stream",
     "text": [
      "Saved state to results/230402-05-bmw-dreamlike/checkpoint-000900\n",
      "Running validation with prompt: ['BMWSTYLE photo of bmw green car design, front view', 'BMWSTYLE skatch of bmw red car design, side view.', 'BMWSTYLE photo of bmw pink car design, front view, Make sure the BMWLOGO is clearly visible on the front of the car.', 'BMWLOGO']\n"
     ]
    },
    {
     "data": {
      "application/vnd.jupyter.widget-view+json": {
       "model_id": "a481e1d7749d477eaf8cea202a1b9e94",
       "version_major": 2,
       "version_minor": 0
      },
      "text/plain": [
       "Loading pipeline components...:   0%|          | 0/5 [00:00<?, ?it/s]"
      ]
     },
     "metadata": {},
     "output_type": "display_data"
    },
    {
     "name": "stderr",
     "output_type": "stream",
     "text": [
      "Steps:  94%|██████████▎| 920/980 [40:13<02:19,  2.33s/it, lr=9.93e-7, step_loss=0.033]"
     ]
    },
    {
     "name": "stdout",
     "output_type": "stream",
     "text": [
      "Saved state to results/230402-05-bmw-dreamlike/checkpoint-000920\n",
      "Running validation with prompt: ['BMWSTYLE photo of bmw green car design, front view', 'BMWSTYLE skatch of bmw red car design, side view.', 'BMWSTYLE photo of bmw pink car design, front view, Make sure the BMWLOGO is clearly visible on the front of the car.', 'BMWLOGO']\n"
     ]
    },
    {
     "data": {
      "application/vnd.jupyter.widget-view+json": {
       "model_id": "63e5e7fcb6854aa19f6295a9fabfdf8e",
       "version_major": 2,
       "version_minor": 0
      },
      "text/plain": [
       "Loading pipeline components...:   0%|          | 0/5 [00:00<?, ?it/s]"
      ]
     },
     "metadata": {},
     "output_type": "display_data"
    },
    {
     "name": "stderr",
     "output_type": "stream",
     "text": [
      "Steps:  96%|█████████▌| 940/980 [41:05<01:37,  2.43s/it, lr=4.49e-7, step_loss=0.0486]"
     ]
    },
    {
     "name": "stdout",
     "output_type": "stream",
     "text": [
      "Saved state to results/230402-05-bmw-dreamlike/checkpoint-000940\n",
      "Running validation with prompt: ['BMWSTYLE photo of bmw green car design, front view', 'BMWSTYLE skatch of bmw red car design, side view.', 'BMWSTYLE photo of bmw pink car design, front view, Make sure the BMWLOGO is clearly visible on the front of the car.', 'BMWLOGO']\n"
     ]
    },
    {
     "data": {
      "application/vnd.jupyter.widget-view+json": {
       "model_id": "10a5276a0df64c5aa5149dfc53beffc1",
       "version_major": 2,
       "version_minor": 0
      },
      "text/plain": [
       "Loading pipeline components...:   0%|          | 0/5 [00:00<?, ?it/s]"
      ]
     },
     "metadata": {},
     "output_type": "display_data"
    },
    {
     "name": "stderr",
     "output_type": "stream",
     "text": [
      "Steps:  98%|█████████▊| 960/980 [41:59<00:46,  2.34s/it, lr=1.18e-7, step_loss=0.0429]"
     ]
    },
    {
     "name": "stdout",
     "output_type": "stream",
     "text": [
      "Saved state to results/230402-05-bmw-dreamlike/checkpoint-000960\n",
      "Running validation with prompt: ['BMWSTYLE photo of bmw green car design, front view', 'BMWSTYLE skatch of bmw red car design, side view.', 'BMWSTYLE photo of bmw pink car design, front view, Make sure the BMWLOGO is clearly visible on the front of the car.', 'BMWLOGO']\n"
     ]
    },
    {
     "data": {
      "application/vnd.jupyter.widget-view+json": {
       "model_id": "2bb721f472a3448a87f27f3ba97b9489",
       "version_major": 2,
       "version_minor": 0
      },
      "text/plain": [
       "Loading pipeline components...:   0%|          | 0/5 [00:00<?, ?it/s]"
      ]
     },
     "metadata": {},
     "output_type": "display_data"
    },
    {
     "name": "stderr",
     "output_type": "stream",
     "text": [
      "Steps: 100%|█████████| 980/980 [42:51<00:00,  1.86s/it, lr=2.68e-10, step_loss=0.0548]"
     ]
    },
    {
     "name": "stdout",
     "output_type": "stream",
     "text": [
      "Saved state to results/230402-05-bmw-dreamlike/checkpoint-000980\n",
      "Running validation with prompt: ['BMWSTYLE photo of bmw green car design, front view', 'BMWSTYLE skatch of bmw red car design, side view.', 'BMWSTYLE photo of bmw pink car design, front view, Make sure the BMWLOGO is clearly visible on the front of the car.', 'BMWLOGO']\n"
     ]
    },
    {
     "data": {
      "application/vnd.jupyter.widget-view+json": {
       "model_id": "139f1bcb0c174517a4783a9f48cb2d77",
       "version_major": 2,
       "version_minor": 0
      },
      "text/plain": [
       "Loading pipeline components...:   0%|          | 0/5 [00:00<?, ?it/s]"
      ]
     },
     "metadata": {},
     "output_type": "display_data"
    },
    {
     "name": "stderr",
     "output_type": "stream",
     "text": [
      "Steps: 100%|████████████████| 980/980 [42:58<00:00,  2.63s/it, lr=0, step_loss=0.0872]\n"
     ]
    }
   ],
   "source": [
    "model.train(\n",
    "      train_dataloader,\n",
    "      output_dir = 'results/230402-05-bmw-dreamlike',\n",
    "      # data\n",
    "      img_w = 512,\n",
    "      img_h = 512,\n",
    "      # train\n",
    "      mixed_precision = \"fp16\", #[\"no\", \"bf16\"] Whether to use mixed precision. Choose between fp16 and bf16 (bfloat16). Bf16 requires PyTorch >=\n",
    "      num_train_epochs = 20, \n",
    "      gradient_accumulation_steps=16, # Number of updates steps to accumulate before performing a backward/update pass.\n",
    "      learning_rate = 1e-4, \n",
    "      max_train_steps = None,\n",
    "      checkpointing_steps = 20,\n",
    "      lr_scheduler = \"cosine\", # [\"linear\", \"cosine\", \"cosine_with_restarts\", \"polynomial\",\"constant\", \"constant_with_warmup\"]'\n",
    "      lr_warmup_steps = 20,\n",
    "      # infer\n",
    "      infer_prompts=[\n",
    "                    \"BMWSTYLE photo of bmw green car design, front view\",\n",
    "                    \"BMWSTYLE skatch of bmw red car design, side view.\",\n",
    "                    \"BMWSTYLE photo of bmw pink car design, front view, Make sure the BMWLOGO is clearly visible on the front of the car.\",\n",
    "                    \"BMWLOGO\"], \n",
    "                     \n",
    "      n_infer_steps=20,\n",
    "      n_infer_imgs=2, \n",
    "      )"
   ]
  },
  {
   "cell_type": "markdown",
   "id": "7f8981a6",
   "metadata": {},
   "source": [
    "## Inference with Pretrained lora weights\n",
    "---"
   ]
  },
  {
   "cell_type": "code",
   "execution_count": 1,
   "id": "65bf3488",
   "metadata": {},
   "outputs": [
    {
     "name": "stderr",
     "output_type": "stream",
     "text": [
      "/root/.pyenv/versions/3.10.13/lib/python3.10/site-packages/diffusers/utils/outputs.py:63: UserWarning: torch.utils._pytree._register_pytree_node is deprecated. Please use torch.utils._pytree.register_pytree_node instead.\n",
      "  torch.utils._pytree._register_pytree_node(\n"
     ]
    },
    {
     "name": "stdout",
     "output_type": "stream",
     "text": [
      "True\n"
     ]
    }
   ],
   "source": [
    "import sys, os\n",
    "sys.path.append('./scripts/')\n",
    "from lora import LoRA, image_grid\n",
    "import matplotlib.pyplot as plt\n",
    "\n",
    "import torch\n",
    "print(torch.cuda.is_available())"
   ]
  },
  {
   "cell_type": "markdown",
   "id": "d94fd7fd",
   "metadata": {},
   "source": [
    "### Base model : SD 1.5"
   ]
  },
  {
   "cell_type": "code",
   "execution_count": 22,
   "id": "51f43902",
   "metadata": {},
   "outputs": [
    {
     "name": "stdout",
     "output_type": "stream",
     "text": [
      "- base_model_path: runwayml/stable-diffusion-v1-5\n",
      "- device: cuda\n",
      "- seed: 1\n"
     ]
    },
    {
     "data": {
      "application/vnd.jupyter.widget-view+json": {
       "model_id": "2e28ce9764f04e9cb93de3af9aa6b8b7",
       "version_major": 2,
       "version_minor": 0
      },
      "text/plain": [
       "Loading pipeline components...:   0%|          | 0/6 [00:00<?, ?it/s]"
      ]
     },
     "metadata": {},
     "output_type": "display_data"
    },
    {
     "name": "stderr",
     "output_type": "stream",
     "text": [
      "You have disabled the safety checker for <class 'diffusers.pipelines.stable_diffusion.pipeline_stable_diffusion.StableDiffusionPipeline'> by passing `safety_checker=None`. Ensure that you abide to the conditions of the Stable Diffusion license and do not expose unfiltered results in services or applications open to the public. Both the diffusers team and Hugging Face strongly recommend to keep the safety filter enabled in all public facing circumstances, disabling it only for use-cases that involve analyzing network behavior or auditing its results. For more information, please have a look at https://github.com/huggingface/diffusers/pull/254 .\n"
     ]
    }
   ],
   "source": [
    "model = LoRA()\n",
    "model.set_pipe()"
   ]
  },
  {
   "cell_type": "markdown",
   "id": "44e7e9e1",
   "metadata": {},
   "source": [
    "#### SD 1.5 only"
   ]
  },
  {
   "cell_type": "code",
   "execution_count": 55,
   "id": "9f59fd17-6bb7-4cb1-bbfd-0744efe79072",
   "metadata": {},
   "outputs": [],
   "source": [
    "txt = f'Photorealistic camera shot, with highly detailed body. Ultra-detailed 8K resolution. Crisp quality.'"
   ]
  },
  {
   "cell_type": "code",
   "execution_count": 23,
   "id": "d1e3d365",
   "metadata": {},
   "outputs": [
    {
     "name": "stdout",
     "output_type": "stream",
     "text": [
      "5\n"
     ]
    },
    {
     "data": {
      "application/vnd.jupyter.widget-view+json": {
       "model_id": "1b4a7ea42b7f42319347446e071af4bc",
       "version_major": 2,
       "version_minor": 0
      },
      "text/plain": [
       "  0%|          | 0/20 [00:00<?, ?it/s]"
      ]
     },
     "metadata": {},
     "output_type": "display_data"
    },
    {
     "name": "stdout",
     "output_type": "stream",
     "text": [
      "6\n"
     ]
    },
    {
     "data": {
      "application/vnd.jupyter.widget-view+json": {
       "model_id": "ef5c44b9ac384bbfb1755924ba3edde5",
       "version_major": 2,
       "version_minor": 0
      },
      "text/plain": [
       "  0%|          | 0/20 [00:00<?, ?it/s]"
      ]
     },
     "metadata": {},
     "output_type": "display_data"
    },
    {
     "name": "stdout",
     "output_type": "stream",
     "text": [
      "7\n"
     ]
    },
    {
     "data": {
      "application/vnd.jupyter.widget-view+json": {
       "model_id": "63317d8ee4e648ee8e687d6001f1ca7e",
       "version_major": 2,
       "version_minor": 0
      },
      "text/plain": [
       "  0%|          | 0/20 [00:00<?, ?it/s]"
      ]
     },
     "metadata": {},
     "output_type": "display_data"
    },
    {
     "name": "stdout",
     "output_type": "stream",
     "text": [
      "8\n"
     ]
    },
    {
     "data": {
      "application/vnd.jupyter.widget-view+json": {
       "model_id": "865b730dba534dc08be5ec0604ec4092",
       "version_major": 2,
       "version_minor": 0
      },
      "text/plain": [
       "  0%|          | 0/20 [00:00<?, ?it/s]"
      ]
     },
     "metadata": {},
     "output_type": "display_data"
    }
   ],
   "source": [
    "for i in range(4):\n",
    "    model.seed=i+5\n",
    "    print(model.seed)\n",
    "    imgs = model.infer( prompts=[\n",
    "                    \"bmw style green car, front view. \", \n",
    "                    \"bmw style red car, side view. \",\n",
    "                    \"bmw style black diagonal view. \",\n",
    "                    \"bmw style white car \",\n",
    "    ], \n",
    "                        n = 1)\n",
    "    grid = image_grid(imgs, 1, len(imgs))\n",
    "    grid.save(f'sd15_{i}.png')"
   ]
  },
  {
   "cell_type": "markdown",
   "id": "da4b7376",
   "metadata": {},
   "source": [
    "#### SD 1.5 + Lora weights\n",
    "\n",
    "* Get checkpoint weights\n",
    "    * After train, checkpoint were saved.\n",
    "    * Change weights name \"pytorch_model.bin\" to \"pytorch_lora_weights.bin\" "
   ]
  },
  {
   "cell_type": "code",
   "execution_count": 24,
   "id": "c74dc4c8",
   "metadata": {},
   "outputs": [],
   "source": [
    "model.pipe.unet.load_attn_procs('results/230402-04-bmw-sd15')"
   ]
  },
  {
   "cell_type": "code",
   "execution_count": 25,
   "id": "077fa611",
   "metadata": {
    "scrolled": true
   },
   "outputs": [
    {
     "name": "stdout",
     "output_type": "stream",
     "text": [
      "5\n"
     ]
    },
    {
     "data": {
      "application/vnd.jupyter.widget-view+json": {
       "model_id": "8bfedde84b4749d1978fbe51ae0c495c",
       "version_major": 2,
       "version_minor": 0
      },
      "text/plain": [
       "  0%|          | 0/20 [00:00<?, ?it/s]"
      ]
     },
     "metadata": {},
     "output_type": "display_data"
    },
    {
     "name": "stdout",
     "output_type": "stream",
     "text": [
      "6\n"
     ]
    },
    {
     "data": {
      "application/vnd.jupyter.widget-view+json": {
       "model_id": "bbb68e14f7704965b98a0d309707d5d8",
       "version_major": 2,
       "version_minor": 0
      },
      "text/plain": [
       "  0%|          | 0/20 [00:00<?, ?it/s]"
      ]
     },
     "metadata": {},
     "output_type": "display_data"
    },
    {
     "name": "stdout",
     "output_type": "stream",
     "text": [
      "7\n"
     ]
    },
    {
     "data": {
      "application/vnd.jupyter.widget-view+json": {
       "model_id": "6815ecd7856d404e8f50ffe6859403c5",
       "version_major": 2,
       "version_minor": 0
      },
      "text/plain": [
       "  0%|          | 0/20 [00:00<?, ?it/s]"
      ]
     },
     "metadata": {},
     "output_type": "display_data"
    },
    {
     "name": "stdout",
     "output_type": "stream",
     "text": [
      "8\n"
     ]
    },
    {
     "data": {
      "application/vnd.jupyter.widget-view+json": {
       "model_id": "1d7787cd528941c98a38d1984424afa6",
       "version_major": 2,
       "version_minor": 0
      },
      "text/plain": [
       "  0%|          | 0/20 [00:00<?, ?it/s]"
      ]
     },
     "metadata": {},
     "output_type": "display_data"
    }
   ],
   "source": [
    "for i in range(4):\n",
    "    model.seed=i+5\n",
    "    print(model.seed)\n",
    "    imgs = model.infer( prompts=[\n",
    "                    \"BMWSTYLE green car, front view.\", \n",
    "                    \"BMWSTYLE red car, side view.\",\n",
    "                    \"BMWSTYLE black diagonal view.\",\n",
    "                    \"BMWSTYLE white car \",\n",
    "\n",
    "    ], \n",
    "                        n = 1)\n",
    "    grid = image_grid(imgs, 1, len(imgs))\n",
    "    grid.save(f'sd15_lora_{i}.png')"
   ]
  },
  {
   "cell_type": "code",
   "execution_count": 5,
   "id": "6ce27e4d-9c8f-4f91-90db-e7bfece9faf2",
   "metadata": {},
   "outputs": [],
   "source": [
    "model.pipe.save_pretrained('pipe-dreamlike')"
   ]
  },
  {
   "cell_type": "markdown",
   "id": "b69c39fa",
   "metadata": {},
   "source": [
    "### Base model : DreamLike"
   ]
  },
  {
   "cell_type": "code",
   "execution_count": 26,
   "id": "79782c48",
   "metadata": {},
   "outputs": [
    {
     "name": "stdout",
     "output_type": "stream",
     "text": [
      "- base_model_path: dreamlike-art/dreamlike-photoreal-2.0\n",
      "- device: cuda\n",
      "- seed: 1\n"
     ]
    },
    {
     "data": {
      "application/vnd.jupyter.widget-view+json": {
       "model_id": "6ea93d525d374b7e9a70c7f5264d4256",
       "version_major": 2,
       "version_minor": 0
      },
      "text/plain": [
       "Loading pipeline components...:   0%|          | 0/5 [00:00<?, ?it/s]"
      ]
     },
     "metadata": {},
     "output_type": "display_data"
    }
   ],
   "source": [
    "model = LoRA(\"dreamlike-art/dreamlike-photoreal-2.0\")\n",
    "model.set_pipe()"
   ]
  },
  {
   "cell_type": "markdown",
   "id": "c6603107",
   "metadata": {},
   "source": [
    "#### Dreamlike only"
   ]
  },
  {
   "cell_type": "code",
   "execution_count": 27,
   "id": "c026f420",
   "metadata": {
    "scrolled": true
   },
   "outputs": [
    {
     "name": "stdout",
     "output_type": "stream",
     "text": [
      "5\n"
     ]
    },
    {
     "data": {
      "application/vnd.jupyter.widget-view+json": {
       "model_id": "b99b40b9da234f68b8b94185405aab20",
       "version_major": 2,
       "version_minor": 0
      },
      "text/plain": [
       "  0%|          | 0/20 [00:00<?, ?it/s]"
      ]
     },
     "metadata": {},
     "output_type": "display_data"
    },
    {
     "name": "stdout",
     "output_type": "stream",
     "text": [
      "6\n"
     ]
    },
    {
     "data": {
      "application/vnd.jupyter.widget-view+json": {
       "model_id": "4b1cd72eb7554e71974c5496afea6c67",
       "version_major": 2,
       "version_minor": 0
      },
      "text/plain": [
       "  0%|          | 0/20 [00:00<?, ?it/s]"
      ]
     },
     "metadata": {},
     "output_type": "display_data"
    },
    {
     "name": "stdout",
     "output_type": "stream",
     "text": [
      "7\n"
     ]
    },
    {
     "data": {
      "application/vnd.jupyter.widget-view+json": {
       "model_id": "daa417feb0824d29a1259b0510652f8c",
       "version_major": 2,
       "version_minor": 0
      },
      "text/plain": [
       "  0%|          | 0/20 [00:00<?, ?it/s]"
      ]
     },
     "metadata": {},
     "output_type": "display_data"
    },
    {
     "name": "stdout",
     "output_type": "stream",
     "text": [
      "8\n"
     ]
    },
    {
     "data": {
      "application/vnd.jupyter.widget-view+json": {
       "model_id": "0c390dfbd1214855a4185a64ef5c7af2",
       "version_major": 2,
       "version_minor": 0
      },
      "text/plain": [
       "  0%|          | 0/20 [00:00<?, ?it/s]"
      ]
     },
     "metadata": {},
     "output_type": "display_data"
    }
   ],
   "source": [
    "txt = f'Photorealistic camera shot, with highly detailed body. Ultra-detailed 8K resolution. Crisp quality.'\n",
    "for i in range(4):\n",
    "    model.seed=i+5\n",
    "    print(model.seed)\n",
    "    imgs = model.infer( prompts=[\n",
    "                    \"bmw style green car, front view. \", \n",
    "                    \"bmw style red car, side view. \",\n",
    "                    \"bmw style black, diagonal view. \",\n",
    "                    \"bmw style white car \",\n",
    "    ], \n",
    "                        n = 1)\n",
    "    grid = image_grid(imgs, 1, len(imgs))\n",
    "    grid.save(f'dreamlike_{i}.png')"
   ]
  },
  {
   "cell_type": "markdown",
   "id": "f6466307",
   "metadata": {},
   "source": [
    "#### Dreamlike + Lora\n",
    "\n",
    "* Get checkpoint weights\n",
    "    * After train, checkpoint were saved.\n",
    "    * Change weights name \"pytorch_model.bin\" to \"pytorch_lora_weights.bin\" "
   ]
  },
  {
   "cell_type": "code",
   "execution_count": 19,
   "id": "63650c9c",
   "metadata": {},
   "outputs": [],
   "source": [
    "model.pipe.unet.load_attn_procs('results/230402-05-bmw-dreamlike/checkpoint-000980/')"
   ]
  },
  {
   "cell_type": "code",
   "execution_count": 21,
   "id": "f1ccdfae",
   "metadata": {
    "scrolled": true
   },
   "outputs": [
    {
     "name": "stdout",
     "output_type": "stream",
     "text": [
      "5\n"
     ]
    },
    {
     "data": {
      "application/vnd.jupyter.widget-view+json": {
       "model_id": "2139137f42394b37856c4787dad676bf",
       "version_major": 2,
       "version_minor": 0
      },
      "text/plain": [
       "  0%|          | 0/20 [00:00<?, ?it/s]"
      ]
     },
     "metadata": {},
     "output_type": "display_data"
    },
    {
     "name": "stdout",
     "output_type": "stream",
     "text": [
      "6\n"
     ]
    },
    {
     "data": {
      "application/vnd.jupyter.widget-view+json": {
       "model_id": "933d4d6d08634d249be4328ef432e674",
       "version_major": 2,
       "version_minor": 0
      },
      "text/plain": [
       "  0%|          | 0/20 [00:00<?, ?it/s]"
      ]
     },
     "metadata": {},
     "output_type": "display_data"
    },
    {
     "name": "stdout",
     "output_type": "stream",
     "text": [
      "7\n"
     ]
    },
    {
     "data": {
      "application/vnd.jupyter.widget-view+json": {
       "model_id": "cba4dd330e9c4a67b3fd3031b460a5a9",
       "version_major": 2,
       "version_minor": 0
      },
      "text/plain": [
       "  0%|          | 0/20 [00:00<?, ?it/s]"
      ]
     },
     "metadata": {},
     "output_type": "display_data"
    },
    {
     "name": "stdout",
     "output_type": "stream",
     "text": [
      "8\n"
     ]
    },
    {
     "data": {
      "application/vnd.jupyter.widget-view+json": {
       "model_id": "05d58c8180244669b7daabe5a6d873e1",
       "version_major": 2,
       "version_minor": 0
      },
      "text/plain": [
       "  0%|          | 0/20 [00:00<?, ?it/s]"
      ]
     },
     "metadata": {},
     "output_type": "display_data"
    }
   ],
   "source": [
    "for i in range(4):\n",
    "    model.seed=i+5\n",
    "    print(model.seed)\n",
    "    imgs = model.infer( prompts=[\n",
    "                    \"BMWSTYLE green car, front view. \", \n",
    "                    \"BMWSTYLE red car, side view. \",\n",
    "                    \"BMWSTYLE black, diagonal view. \",\n",
    "                    \"BMWSTYLE white car \",\n",
    "\n",
    "    ], \n",
    "                        n = 1)\n",
    "    grid = image_grid(imgs, 1, len(imgs))\n",
    "    grid.save(f'dreamlike_lora_{i}.png')"
   ]
  },
  {
   "cell_type": "code",
   "execution_count": 10,
   "id": "1cc923de",
   "metadata": {},
   "outputs": [],
   "source": [
    "model.pipe.save_pretrained('pipe-lora-dreamlike')"
   ]
  },
  {
   "cell_type": "code",
   "execution_count": null,
   "id": "33cae893-e454-4dc8-a7dd-5d73405097a7",
   "metadata": {},
   "outputs": [],
   "source": []
  }
 ],
 "metadata": {
  "kernelspec": {
   "display_name": "Python 3 (ipykernel)",
   "language": "python",
   "name": "python3"
  },
  "language_info": {
   "codemirror_mode": {
    "name": "ipython",
    "version": 3
   },
   "file_extension": ".py",
   "mimetype": "text/x-python",
   "name": "python",
   "nbconvert_exporter": "python",
   "pygments_lexer": "ipython3",
   "version": "3.10.13"
  }
 },
 "nbformat": 4,
 "nbformat_minor": 5
}
