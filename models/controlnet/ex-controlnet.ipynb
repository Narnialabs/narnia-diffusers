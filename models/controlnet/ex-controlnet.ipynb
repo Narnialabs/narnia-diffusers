{
 "cells": [
  {
   "cell_type": "code",
   "execution_count": 1,
   "id": "9444870c",
   "metadata": {},
   "outputs": [
    {
     "name": "stdout",
     "output_type": "stream",
     "text": [
      "Wed Apr  3 11:56:40 2024       \n",
      "+---------------------------------------------------------------------------------------+\n",
      "| NVIDIA-SMI 545.29.06              Driver Version: 545.29.06    CUDA Version: 12.3     |\n",
      "|-----------------------------------------+----------------------+----------------------+\n",
      "| GPU  Name                 Persistence-M | Bus-Id        Disp.A | Volatile Uncorr. ECC |\n",
      "| Fan  Temp   Perf          Pwr:Usage/Cap |         Memory-Usage | GPU-Util  Compute M. |\n",
      "|                                         |                      |               MIG M. |\n",
      "|=========================================+======================+======================|\n",
      "|   0  NVIDIA A100 80GB PCIe          Off | 00000000:22:00.0 Off |                    0 |\n",
      "| N/A   31C    P0              54W / 300W |      7MiB / 81920MiB |      0%      Default |\n",
      "|                                         |                      |             Disabled |\n",
      "+-----------------------------------------+----------------------+----------------------+\n",
      "                                                                                         \n",
      "+---------------------------------------------------------------------------------------+\n",
      "| Processes:                                                                            |\n",
      "|  GPU   GI   CI        PID   Type   Process name                            GPU Memory |\n",
      "|        ID   ID                                                             Usage      |\n",
      "|=======================================================================================|\n",
      "|  No running processes found                                                           |\n",
      "+---------------------------------------------------------------------------------------+\n"
     ]
    }
   ],
   "source": [
    "!nvidia-smi"
   ]
  },
  {
   "cell_type": "code",
   "execution_count": 2,
   "id": "b2357271",
   "metadata": {},
   "outputs": [
    {
     "name": "stdout",
     "output_type": "stream",
     "text": [
      "True\n",
      "Device: cuda\n",
      "Current cuda device: 0\n",
      "Count of using GPUs: 1\n"
     ]
    }
   ],
   "source": [
    "import os, torch\n",
    "\n",
    "print(torch.cuda.is_available())\n",
    "device = torch.device(\"cuda\" if torch.cuda.is_available() else \"cpu\")\n",
    "print('Device:', device)\n",
    "print('Current cuda device:', torch.cuda.current_device())\n",
    "print('Count of using GPUs:', torch.cuda.device_count())"
   ]
  },
  {
   "cell_type": "code",
   "execution_count": 8,
   "id": "e844ad59-facb-46b9-929e-d0520d9658d8",
   "metadata": {},
   "outputs": [
    {
     "data": {
      "application/vnd.jupyter.widget-view+json": {
       "model_id": "8ebbc666914347f4800e6bf5650de19f",
       "version_major": 2,
       "version_minor": 0
      },
      "text/plain": [
       "Loading pipeline components...:   0%|          | 0/5 [00:00<?, ?it/s]"
      ]
     },
     "metadata": {},
     "output_type": "display_data"
    }
   ],
   "source": [
    "from diffusers import StableDiffusionControlNetPipeline, ControlNetModel\n",
    "\n",
    "controlnet = ControlNetModel.from_pretrained(\"lllyasviel/control_v11p_sd15_scribble\",\n",
    "                                                  torch_dtype=torch.float16,\n",
    "                                                  use_safetensors=True)\n",
    "pipe = StableDiffusionControlNetPipeline.from_pretrained(\"dreamlike-art/dreamlike-photoreal-2.0\",\n",
    "                                                         controlnet = controlnet,\n",
    "                                                         torch_dtype=torch.float16,\n",
    "                                                        use_safetensors=True).to('cuda')\n",
    "pipe.save_pretrained('pipe-controlnet-dreamlike')"
   ]
  },
  {
   "cell_type": "code",
   "execution_count": 3,
   "id": "a20241e6",
   "metadata": {},
   "outputs": [
    {
     "name": "stderr",
     "output_type": "stream",
     "text": [
      "/root/.pyenv/versions/3.10.13/lib/python3.10/site-packages/diffusers/utils/outputs.py:63: UserWarning: torch.utils._pytree._register_pytree_node is deprecated. Please use torch.utils._pytree.register_pytree_node instead.\n",
      "  torch.utils._pytree._register_pytree_node(\n"
     ]
    }
   ],
   "source": [
    "from controlnet import ControlNetAslan\n",
    "module = ControlNetAslan('pipe-controlnet-dreamlike')"
   ]
  },
  {
   "cell_type": "code",
   "execution_count": 41,
   "id": "2d26ad26",
   "metadata": {},
   "outputs": [
    {
     "data": {
      "application/vnd.jupyter.widget-view+json": {
       "model_id": "c5af6bf5dd3042f5b44155569787739d",
       "version_major": 2,
       "version_minor": 0
      },
      "text/plain": [
       "Loading pipeline components...:   0%|          | 0/6 [00:00<?, ?it/s]"
      ]
     },
     "metadata": {},
     "output_type": "display_data"
    },
    {
     "data": {
      "application/vnd.jupyter.widget-view+json": {
       "model_id": "03411128b583449ab739c800753c247c",
       "version_major": 2,
       "version_minor": 0
      },
      "text/plain": [
       "  0%|          | 0/30 [00:00<?, ?it/s]"
      ]
     },
     "metadata": {},
     "output_type": "display_data"
    }
   ],
   "source": [
    "# without lora 768 x 512\n",
    "module.run( 'front1.png', # 샘플 이미지\n",
    "            'bmw style deep red car, front view', # 프롬프트\n",
    "            'dreamlike_lora_side2', # 결과 폴더 \n",
    "            #lora='../lora/results/230402-05-bmw-dreamlike/checkpoint-000980/', # lora 사용\n",
    "            scheduler = 'unipc',\n",
    "            new_w = 512, # fix\n",
    "            new_h = 768, # fix\n",
    "            negative_prompt = '',\n",
    "            guide_scale = 10.,\n",
    "            cond_scale = 1.6,\n",
    "            num_infer_steps = 30,\n",
    "            num_images = 4,\n",
    "            seed = -1,\n",
    "            )"
   ]
  },
  {
   "cell_type": "code",
   "execution_count": 40,
   "id": "3fc538f4",
   "metadata": {},
   "outputs": [
    {
     "data": {
      "application/vnd.jupyter.widget-view+json": {
       "model_id": "5705d6ed5f1b41539d0c9e6cc656c1dc",
       "version_major": 2,
       "version_minor": 0
      },
      "text/plain": [
       "Loading pipeline components...:   0%|          | 0/6 [00:00<?, ?it/s]"
      ]
     },
     "metadata": {},
     "output_type": "display_data"
    },
    {
     "data": {
      "application/vnd.jupyter.widget-view+json": {
       "model_id": "7fc460759b744cb493e3905668bb5f54",
       "version_major": 2,
       "version_minor": 0
      },
      "text/plain": [
       "  0%|          | 0/30 [00:00<?, ?it/s]"
      ]
     },
     "metadata": {},
     "output_type": "display_data"
    }
   ],
   "source": [
    "# with lora 768 x 512\n",
    "module.run( 'front1.png', # 샘플 이미지\n",
    "            'BMWSTYLE deep red car, front view', # 프롬프트\n",
    "            '.', # 결과 폴더 \n",
    "            lora='../lora/results/230402-05-bmw-dreamlike/checkpoint-000980/', # lora 사용\n",
    "            scheduler = 'unipc',\n",
    "            new_w = 512, # fix\n",
    "            new_h = 768, # fix\n",
    "            negative_prompt = '',\n",
    "            guide_scale = 10.,\n",
    "            cond_scale = 1.6,\n",
    "            num_infer_steps = 30,\n",
    "            num_images = 4,\n",
    "            seed = -1,\n",
    "            )"
   ]
  },
  {
   "cell_type": "code",
   "execution_count": null,
   "id": "11fde242",
   "metadata": {},
   "outputs": [],
   "source": []
  }
 ],
 "metadata": {
  "kernelspec": {
   "display_name": "Python 3 (ipykernel)",
   "language": "python",
   "name": "python3"
  },
  "language_info": {
   "codemirror_mode": {
    "name": "ipython",
    "version": 3
   },
   "file_extension": ".py",
   "mimetype": "text/x-python",
   "name": "python",
   "nbconvert_exporter": "python",
   "pygments_lexer": "ipython3",
   "version": "3.10.13"
  }
 },
 "nbformat": 4,
 "nbformat_minor": 5
}
